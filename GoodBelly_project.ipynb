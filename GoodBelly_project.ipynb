{
 "cells": [
  {
   "cell_type": "markdown",
   "id": "774f3bcd-d8e3-4fa2-be5b-396d6778fe3e",
   "metadata": {},
   "source": [
    "# Lasso Regression"
   ]
  },
  {
   "cell_type": "code",
   "execution_count": 4,
   "id": "d7dfdbeb-6e51-4c35-8f39-c8cd455392c0",
   "metadata": {},
   "outputs": [],
   "source": [
    "import numpy as np\n",
    "import pandas as pd\n",
    "\n",
    "import sklearn.model_selection as skm\n",
    "from sklearn.model_selection import train_test_split\n",
    "import sklearn.linear_model as skl\n",
    "from sklearn.preprocessing import StandardScaler\n",
    "from sklearn.metrics import mean_squared_error, mean_absolute_error, r2_score\n",
    "\n",
    "from ISLP.models import ModelSpec as MS\n",
    "\n",
    "df = pd.read_excel(\"./Goodbelly_Project_Data.xlsx\")\n",
    "df = df.drop(['Date', 'Region', 'Store'], axis=1)\n",
    "#Standardize \n",
    "scaler = StandardScaler()\n",
    "numerical_feature = df.select_dtypes(include=['float64','int64','bool']).columns\n",
    "df[numerical_feature]= scaler.fit_transform(df[numerical_feature])\n",
    "\n",
    "#Categorize \n",
    "categorical_feature = df.select_dtypes(include=['object']).columns\n",
    "df = pd.get_dummies(df, columns=categorical_feature,drop_first=True,dtype=float)\n",
    "\n",
    "#Select Independent and Dependent variables \n",
    "X = df.drop(['Sales'], axis=1)\n",
    "y = df['Sales']\n",
    "\n",
    "X_train, X_test, y_train, y_test = train_test_split(X, y)\n",
    "\n",
    "# Select Lasso Regression l1_ration=1\n",
    "elastic_net = skl.ElasticNetCV(n_alphas=100, l1_ratio=1)\n",
    "\n",
    "#Fit model\n",
    "elastic_net.fit(X_train, y_train)\n",
    "\n",
    "#Make preditions\n",
    "y_pred = elastic_net.predict(X_test)\n",
    "\n",
    "#Declare desired measurments \n",
    "mse_ = mean_squared_error(y_test,y_pred)\n",
    "rmse_ = np.sqrt(mse_)\n",
    "mae_ =mean_absolute_error(y_test,y_pred)\n",
    "r2_ = r2_score(y_test,y_pred)\n",
    "mape_ = np.mean(np.abs((y_test - y_pred) / y_test))*100\n",
    "\n",
    "#obtain Coefficients \n",
    "coefficients = pd.DataFrame({'Feature': X.columns, 'Coefficient': elastic_net.coef_})\n",
    "\n",
    "#Obtain dropped(0-coefficient) features\n",
    "dropped_features = coefficients['Coefficient'].value_counts().get(0, 0) \n",
    "features = (len(X.columns))\n",
    "\n",
    "#Obtain desired results\n",
    "results =[{\n",
    "    \"dataset\":\"Goodbelly\",\n",
    "    \"R^2\":r2_,\n",
    "    \"MSE\":mse_,\n",
    "    \"RMSE\":rmse_,\n",
    "    \"MAE\":mae_,\n",
    "    \"MAPE\":mape_,\n",
    "    \"Features\":features,\n",
    "    \"Dropped Features\":dropped_features}]"
   ]
  },
  {
   "cell_type": "code",
   "execution_count": 5,
   "id": "98d228de-223b-4b0e-b473-a168dc36eeca",
   "metadata": {},
   "outputs": [],
   "source": [
    "df = pd.DataFrame(results)"
   ]
  },
  {
   "cell_type": "code",
   "execution_count": 6,
   "id": "159e6788-9a50-463d-bb1a-2e4c365c8e75",
   "metadata": {},
   "outputs": [],
   "source": [
    "with pd.ExcelWriter('GoodBelly Lasso Regression.xlsx', engine='openpyxl') as writer:\n",
    "    df.to_excel(writer, sheet_name='results', index=False)\n",
    "    coefficients.to_excel(writer, sheet_name='coef', index=False,header=True)\n",
    "    "
   ]
  },
  {
   "cell_type": "code",
   "execution_count": null,
   "id": "0f8c5788-a05b-4b02-a8bc-abb22a9ceb67",
   "metadata": {},
   "outputs": [],
   "source": []
  }
 ],
 "metadata": {
  "kernelspec": {
   "display_name": "Python 3 (ipykernel)",
   "language": "python",
   "name": "python3"
  },
  "language_info": {
   "codemirror_mode": {
    "name": "ipython",
    "version": 3
   },
   "file_extension": ".py",
   "mimetype": "text/x-python",
   "name": "python",
   "nbconvert_exporter": "python",
   "pygments_lexer": "ipython3",
   "version": "3.12.5"
  }
 },
 "nbformat": 4,
 "nbformat_minor": 5
}
